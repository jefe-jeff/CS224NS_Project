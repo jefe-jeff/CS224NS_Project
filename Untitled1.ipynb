{
 "cells": [
  {
   "cell_type": "code",
   "execution_count": 1,
   "id": "concerned-equilibrium",
   "metadata": {},
   "outputs": [],
   "source": [
    "from google.cloud import texttospeech\n",
    "\n",
    "text = \"the big red dog\"\n",
    "client = texttospeech.TextToSpeechClient()\n",
    "\n",
    "input_text = texttospeech.SynthesisInput(text=text)\n",
    "\n",
    "# Note: the voice can also be specified by name.\n",
    "# Names of voices can be retrieved with client.list_voices().\n",
    "voice = texttospeech.VoiceSelectionParams(\n",
    "    language_code=\"en-US\",\n",
    "    name=\"en-US-Standard-C\",\n",
    "    ssml_gender=texttospeech.SsmlVoiceGender.FEMALE,\n",
    ")\n",
    "\n",
    "audio_config = texttospeech.AudioConfig(\n",
    "    audio_encoding=texttospeech.AudioEncoding.LINEAR16\n",
    ")\n",
    "\n",
    "response = client.synthesize_speech(\n",
    "    request={\"input\": input_text, \"voice\": voice, \"audio_config\": audio_config}\n",
    ")\n"
   ]
  },
  {
   "cell_type": "code",
   "execution_count": 12,
   "id": "confidential-locking",
   "metadata": {},
   "outputs": [
    {
     "ename": "NameError",
     "evalue": "name 'request' is not defined",
     "output_type": "error",
     "traceback": [
      "\u001b[0;31m---------------------------------------------------------------------------\u001b[0m",
      "\u001b[0;31mNameError\u001b[0m                                 Traceback (most recent call last)",
      "\u001b[0;32m<ipython-input-12-aa7cb8caeb76>\u001b[0m in \u001b[0;36m<module>\u001b[0;34m\u001b[0m\n\u001b[0;32m----> 1\u001b[0;31m \u001b[0mrequest\u001b[0m\u001b[0;34m.\u001b[0m\u001b[0mtimepoints\u001b[0m\u001b[0;34m\u001b[0m\u001b[0;34m\u001b[0m\u001b[0m\n\u001b[0m",
      "\u001b[0;31mNameError\u001b[0m: name 'request' is not defined"
     ]
    }
   ],
   "source": [
    "request.timepoints"
   ]
  },
  {
   "cell_type": "code",
   "execution_count": null,
   "id": "internal-membrane",
   "metadata": {},
   "outputs": [],
   "source": [
    "{\n",
    "  \"audioConfig\": {\n",
    "    \"audioEncoding\": \"LINEAR16\"\n",
    "  },\n",
    "  \"enableTimePointing\": [\n",
    "    \"SSML_MARK\",\n",
    "  ],\n",
    "  \"voice\": {\n",
    "    \"ssmlGender\": \"NEUTRAL\",\n",
    "    \"languageCode\": \"en-US\",\n",
    "    \"name\": \"en-US-Standard-C\",\n",
    "  },\n",
    "  \"input\": {\n",
    "    \"text\": \"the big blue dog\"\n",
    "  }\n",
    "}"
   ]
  }
 ],
 "metadata": {
  "environment": {
   "name": "common-cu100.m65",
   "type": "gcloud",
   "uri": "gcr.io/deeplearning-platform-release/base-cu100:m65"
  },
  "kernelspec": {
   "display_name": "Python 3",
   "language": "python",
   "name": "python3"
  },
  "language_info": {
   "codemirror_mode": {
    "name": "ipython",
    "version": 3
   },
   "file_extension": ".py",
   "mimetype": "text/x-python",
   "name": "python",
   "nbconvert_exporter": "python",
   "pygments_lexer": "ipython3",
   "version": "3.7.10"
  }
 },
 "nbformat": 4,
 "nbformat_minor": 5
}
