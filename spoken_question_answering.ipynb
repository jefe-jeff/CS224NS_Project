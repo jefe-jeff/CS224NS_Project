{
 "cells": [
  {
   "cell_type": "code",
   "execution_count": null,
   "id": "similar-regular",
   "metadata": {},
   "outputs": [],
   "source": []
  },
  {
   "cell_type": "code",
   "execution_count": null,
   "id": "married-tsunami",
   "metadata": {},
   "outputs": [],
   "source": []
  },
  {
   "cell_type": "code",
   "execution_count": null,
   "id": "later-dominican",
   "metadata": {},
   "outputs": [],
   "source": []
  },
  {
   "cell_type": "code",
   "execution_count": null,
   "id": "alike-distributor",
   "metadata": {},
   "outputs": [],
   "source": []
  },
  {
   "cell_type": "code",
   "execution_count": null,
   "id": "similar-junior",
   "metadata": {},
   "outputs": [],
   "source": [
    "wav2vec2_tokenizer = Wav2Vec2Tokenizer.from_pretrained(\"facebook/wav2vec2-base-960h\")\n",
    "wav2vec2_model = Wav2Vec2Model.from_pretrained(\"facebook/wav2vec2-base-960h\")\n",
    "wav2vec2_model.to(device)"
   ]
  },
  {
   "cell_type": "code",
   "execution_count": null,
   "id": "random-hotel",
   "metadata": {},
   "outputs": [],
   "source": [
    "dev_data_path = 'data/dev'\n",
    "train_data_path = 'data/train/'\n",
    "\n",
    "audio_filepath = os.path.join(dev_data_path, '0_0.flac')"
   ]
  },
  {
   "cell_type": "code",
   "execution_count": null,
   "id": "increasing-horror",
   "metadata": {},
   "outputs": [],
   "source": [
    "os.listdir(dev_data_path)"
   ]
  },
  {
   "cell_type": "code",
   "execution_count": null,
   "id": "behavioral-arkansas",
   "metadata": {},
   "outputs": [],
   "source": [
    "samples, sr = torchaudio.load(audio_filepath)"
   ]
  }
 ],
 "metadata": {
  "environment": {
   "name": "common-cu100.m65",
   "type": "gcloud",
   "uri": "gcr.io/deeplearning-platform-release/base-cu100:m65"
  },
  "kernelspec": {
   "display_name": "Python 3",
   "language": "python",
   "name": "python3"
  },
  "language_info": {
   "codemirror_mode": {
    "name": "ipython",
    "version": 3
   },
   "file_extension": ".py",
   "mimetype": "text/x-python",
   "name": "python",
   "nbconvert_exporter": "python",
   "pygments_lexer": "ipython3",
   "version": "3.7.10"
  }
 },
 "nbformat": 4,
 "nbformat_minor": 5
}
